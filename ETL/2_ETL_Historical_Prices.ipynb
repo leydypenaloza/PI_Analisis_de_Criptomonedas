{
 "cells": [
  {
   "cell_type": "markdown",
   "metadata": {},
   "source": [
    "# <h1 align=center> **ETL - HISTÓRICO DE PRECIOS** </h1>\n",
    "## <h1 align=center> (Extract, Transform, Load) </h1>"
   ]
  },
  {
   "cell_type": "markdown",
   "metadata": {},
   "source": [
    "Para el desarrollo de la primera fase de este proyecto, realizaré la aplicación del proceso ETL, el cuál básicamente consiste en `“Extraer”` los datos crudos desde su origen (Source), `“Transformarlos”` según nuestras necesidades de analítica o la estructura que deseamos y `“Cargarlos”` a una base de datos orientada a procesos analíticos (Target)."
   ]
  },
  {
   "cell_type": "markdown",
   "metadata": {},
   "source": [
    "<p align=center><img src='..\\Imagenes\\precio_criptomonedas.jpg' height=300><p>\n",
    "![etl2](/Imagenes/precio_criptomonedas.jpg)"
   ]
  },
  {
   "cell_type": "markdown",
   "metadata": {},
   "source": [
    "Como fase previa a la aplicación del ETL, se realizará la importación de librerías que serán de utilidad en el desarrollo del proceso, las cuales son:"
   ]
  },
  {
   "cell_type": "code",
   "execution_count": 26,
   "metadata": {},
   "outputs": [],
   "source": [
    "from pycoingecko import CoinGeckoAPI\n",
    "import json\n",
    "import requests\n",
    "import os\n",
    "import pandas as pd\n",
    "import datetime\n",
    "import time\n",
    "import ccxt\n",
    "import locale"
   ]
  },
  {
   "cell_type": "markdown",
   "metadata": {},
   "source": [
    "# <h1 align=left>**`Extract: Histórico de Precios`**</h1>"
   ]
  },
  {
   "cell_type": "markdown",
   "metadata": {},
   "source": [
    "Teniendo en cuenta que la información se va a descargar de la API de la plataforma CoinGecko, en este punto se extrae información de las funciones de la API, se almacenan en `DataFrames` de la librería de `Pandas` y posteriormente se crean `Datasets` extructurados en archivos `.csv`."
   ]
  },
  {
   "cell_type": "markdown",
   "metadata": {},
   "source": [
    "**1.** Crear un diccionario principal con los datos de las 10 criptomonedas seleccionadas en el **`Top 10`**.\n",
    "\n",
    "+ **a.** Lista de IDs, en esta lista se selecciona el dolar **(USD)** como moneda de tipo de cambio.\n",
    "+ **b.** Se seleccionan datos de los últimos `10 años` o desde que inició la comercialización de la criptomoneda en CoinGecko si el periodo es inferior a `10 años`.\n",
    "+ **c.** Crear un diccionario para almacenar los datos de todas las monedas.\n",
    "+ **d.** Iterar a través de los IDs de las monedas.\n",
    "+ **e.** Obtener los datos de mercado de la criptomoneda.\n",
    "+ **f.** Crear un diccionario para almacenar los datos de la moneda actual.\n",
    "+ **g.** Iterar a través de los datos de mercado para recopilar los datos.\n",
    "+ **h.** Agregar los datos de la moneda actual al diccionario principal"
   ]
  },
  {
   "cell_type": "code",
   "execution_count": 27,
   "metadata": {},
   "outputs": [],
   "source": [
    "cg = CoinGeckoAPI()\n",
    "\n",
    "# a.\n",
    "coin_ids = ['bitcoin', 'ethereum', 'tether', 'binancecoin', 'ripple', 'usd-coin', 'staked-ether', 'cardano', 'dogecoin', 'solana']\n",
    "vs_currency = 'usd'\n",
    "# b.\n",
    "days = 365 * 10\n",
    "# c.\n",
    "all_coin_data = {}\n",
    "\n",
    "# d.\n",
    "for coin_id in coin_ids:\n",
    "    # e.\n",
    "    coin_info = cg.get_coin_by_id(id=coin_id)\n",
    "    coin_market = cg.get_coin_market_chart_range_by_id(\n",
    "        id=coin_id,\n",
    "        vs_currency=vs_currency,\n",
    "        from_timestamp=pd.Timestamp.now().timestamp() - (days * 24 * 60 * 60),\n",
    "        to_timestamp=pd.Timestamp.now().timestamp()\n",
    "    )\n",
    "    # f.\n",
    "    coin_data = {}\n",
    "    \n",
    "    # g.\n",
    "    for data_point, market_data, volume_data in zip(coin_market['prices'], coin_market['market_caps'], coin_market['total_volumes']):\n",
    "        timestamp = pd.to_datetime(data_point[0], unit='ms').date()\n",
    "        close_price = round(data_point[1], 2)\n",
    "        \n",
    "        market_cap = round(market_data[1], 2)\n",
    "        volume_24h = round(volume_data[1], 2)\n",
    "        \n",
    "        coin_data[timestamp] = {\n",
    "            'Timestamp': timestamp,\n",
    "            'id': coin_info['id'],\n",
    "            'symbol': coin_info['symbol'],\n",
    "            'Precio Cierre': close_price,\n",
    "            'Market Cap': market_cap,\n",
    "            'Volume 24h': volume_24h\n",
    "        }\n",
    "    # h.\n",
    "    all_coin_data[coin_info['symbol']] = coin_data"
   ]
  },
  {
   "cell_type": "markdown",
   "metadata": {},
   "source": [
    "**2.** Crear un DataFrame con los datos recopilados de todas las monedas."
   ]
  },
  {
   "cell_type": "code",
   "execution_count": 28,
   "metadata": {},
   "outputs": [],
   "source": [
    "all_coin_data_list = []\n",
    "for coin_symbol, coin_data in all_coin_data.items():\n",
    "    all_coin_data_list.extend(list(coin_data.values()))\n",
    "all_coin_data_df = pd.DataFrame(all_coin_data_list)"
   ]
  },
  {
   "cell_type": "markdown",
   "metadata": {},
   "source": [
    "**3.** Consultar el DataFrame creado para revisar la estructura y los datos generados."
   ]
  },
  {
   "cell_type": "code",
   "execution_count": 29,
   "metadata": {},
   "outputs": [
    {
     "data": {
      "text/html": [
       "<div>\n",
       "<style scoped>\n",
       "    .dataframe tbody tr th:only-of-type {\n",
       "        vertical-align: middle;\n",
       "    }\n",
       "\n",
       "    .dataframe tbody tr th {\n",
       "        vertical-align: top;\n",
       "    }\n",
       "\n",
       "    .dataframe thead th {\n",
       "        text-align: right;\n",
       "    }\n",
       "</style>\n",
       "<table border=\"1\" class=\"dataframe\">\n",
       "  <thead>\n",
       "    <tr style=\"text-align: right;\">\n",
       "      <th></th>\n",
       "      <th>Timestamp</th>\n",
       "      <th>id</th>\n",
       "      <th>symbol</th>\n",
       "      <th>Precio Cierre</th>\n",
       "      <th>Market Cap</th>\n",
       "      <th>Volume 24h</th>\n",
       "    </tr>\n",
       "  </thead>\n",
       "  <tbody>\n",
       "    <tr>\n",
       "      <th>0</th>\n",
       "      <td>2013-08-27</td>\n",
       "      <td>bitcoin</td>\n",
       "      <td>btc</td>\n",
       "      <td>125.67</td>\n",
       "      <td>1.459371e+09</td>\n",
       "      <td>0.000000e+00</td>\n",
       "    </tr>\n",
       "    <tr>\n",
       "      <th>1</th>\n",
       "      <td>2013-08-28</td>\n",
       "      <td>bitcoin</td>\n",
       "      <td>btc</td>\n",
       "      <td>123.02</td>\n",
       "      <td>1.429111e+09</td>\n",
       "      <td>0.000000e+00</td>\n",
       "    </tr>\n",
       "    <tr>\n",
       "      <th>2</th>\n",
       "      <td>2013-08-29</td>\n",
       "      <td>bitcoin</td>\n",
       "      <td>btc</td>\n",
       "      <td>123.44</td>\n",
       "      <td>1.434595e+09</td>\n",
       "      <td>0.000000e+00</td>\n",
       "    </tr>\n",
       "    <tr>\n",
       "      <th>3</th>\n",
       "      <td>2013-08-30</td>\n",
       "      <td>bitcoin</td>\n",
       "      <td>btc</td>\n",
       "      <td>129.20</td>\n",
       "      <td>1.502173e+09</td>\n",
       "      <td>0.000000e+00</td>\n",
       "    </tr>\n",
       "    <tr>\n",
       "      <th>4</th>\n",
       "      <td>2013-08-31</td>\n",
       "      <td>bitcoin</td>\n",
       "      <td>btc</td>\n",
       "      <td>137.76</td>\n",
       "      <td>1.602407e+09</td>\n",
       "      <td>0.000000e+00</td>\n",
       "    </tr>\n",
       "    <tr>\n",
       "      <th>...</th>\n",
       "      <td>...</td>\n",
       "      <td>...</td>\n",
       "      <td>...</td>\n",
       "      <td>...</td>\n",
       "      <td>...</td>\n",
       "      <td>...</td>\n",
       "    </tr>\n",
       "    <tr>\n",
       "      <th>25138</th>\n",
       "      <td>2023-08-20</td>\n",
       "      <td>solana</td>\n",
       "      <td>sol</td>\n",
       "      <td>21.88</td>\n",
       "      <td>8.915137e+09</td>\n",
       "      <td>2.541815e+08</td>\n",
       "    </tr>\n",
       "    <tr>\n",
       "      <th>25139</th>\n",
       "      <td>2023-08-21</td>\n",
       "      <td>solana</td>\n",
       "      <td>sol</td>\n",
       "      <td>21.75</td>\n",
       "      <td>8.865950e+09</td>\n",
       "      <td>1.999999e+08</td>\n",
       "    </tr>\n",
       "    <tr>\n",
       "      <th>25140</th>\n",
       "      <td>2023-08-22</td>\n",
       "      <td>solana</td>\n",
       "      <td>sol</td>\n",
       "      <td>21.20</td>\n",
       "      <td>8.654520e+09</td>\n",
       "      <td>3.504058e+08</td>\n",
       "    </tr>\n",
       "    <tr>\n",
       "      <th>25141</th>\n",
       "      <td>2023-08-23</td>\n",
       "      <td>solana</td>\n",
       "      <td>sol</td>\n",
       "      <td>20.55</td>\n",
       "      <td>8.370857e+09</td>\n",
       "      <td>4.249512e+08</td>\n",
       "    </tr>\n",
       "    <tr>\n",
       "      <th>25142</th>\n",
       "      <td>2023-08-24</td>\n",
       "      <td>solana</td>\n",
       "      <td>sol</td>\n",
       "      <td>21.67</td>\n",
       "      <td>8.838275e+09</td>\n",
       "      <td>4.279637e+08</td>\n",
       "    </tr>\n",
       "  </tbody>\n",
       "</table>\n",
       "<p>25143 rows × 6 columns</p>\n",
       "</div>"
      ],
      "text/plain": [
       "        Timestamp       id symbol  Precio Cierre    Market Cap    Volume 24h\n",
       "0      2013-08-27  bitcoin    btc         125.67  1.459371e+09  0.000000e+00\n",
       "1      2013-08-28  bitcoin    btc         123.02  1.429111e+09  0.000000e+00\n",
       "2      2013-08-29  bitcoin    btc         123.44  1.434595e+09  0.000000e+00\n",
       "3      2013-08-30  bitcoin    btc         129.20  1.502173e+09  0.000000e+00\n",
       "4      2013-08-31  bitcoin    btc         137.76  1.602407e+09  0.000000e+00\n",
       "...           ...      ...    ...            ...           ...           ...\n",
       "25138  2023-08-20   solana    sol          21.88  8.915137e+09  2.541815e+08\n",
       "25139  2023-08-21   solana    sol          21.75  8.865950e+09  1.999999e+08\n",
       "25140  2023-08-22   solana    sol          21.20  8.654520e+09  3.504058e+08\n",
       "25141  2023-08-23   solana    sol          20.55  8.370857e+09  4.249512e+08\n",
       "25142  2023-08-24   solana    sol          21.67  8.838275e+09  4.279637e+08\n",
       "\n",
       "[25143 rows x 6 columns]"
      ]
     },
     "execution_count": 29,
     "metadata": {},
     "output_type": "execute_result"
    }
   ],
   "source": [
    "all_coin_data_df"
   ]
  },
  {
   "cell_type": "markdown",
   "metadata": {},
   "source": [
    "# <h1 align=left>**`Transform: Histórico de Precios`**</h1>"
   ]
  },
  {
   "cell_type": "markdown",
   "metadata": {},
   "source": [
    "En este punto aplicaré algunas transformaciones al _Dataframe_ para generar un Dataset útil para el momento de realizar un buen proceso de _`Exploratory Data Analysis-EDA`_, estas reglas pueden incluir procesos como:\n",
    "\n",
    "+ Filtrar filas por ciertas características.\n",
    "+ Transformar datos.\n",
    "+ Extraer datos.\n",
    "+ Entre otros."
   ]
  },
  {
   "cell_type": "markdown",
   "metadata": {},
   "source": [
    "**4.** Se cambia el tipo de datos a las columnas _`Market Cap`_ y _`Volume 24h`_ convirtiéndolas a tipo **_`float`_**."
   ]
  },
  {
   "cell_type": "code",
   "execution_count": 30,
   "metadata": {},
   "outputs": [
    {
     "data": {
      "text/html": [
       "<div>\n",
       "<style scoped>\n",
       "    .dataframe tbody tr th:only-of-type {\n",
       "        vertical-align: middle;\n",
       "    }\n",
       "\n",
       "    .dataframe tbody tr th {\n",
       "        vertical-align: top;\n",
       "    }\n",
       "\n",
       "    .dataframe thead th {\n",
       "        text-align: right;\n",
       "    }\n",
       "</style>\n",
       "<table border=\"1\" class=\"dataframe\">\n",
       "  <thead>\n",
       "    <tr style=\"text-align: right;\">\n",
       "      <th></th>\n",
       "      <th>Timestamp</th>\n",
       "      <th>id</th>\n",
       "      <th>symbol</th>\n",
       "      <th>Precio Cierre</th>\n",
       "      <th>Market Cap</th>\n",
       "      <th>Volume 24h</th>\n",
       "    </tr>\n",
       "  </thead>\n",
       "  <tbody>\n",
       "    <tr>\n",
       "      <th>0</th>\n",
       "      <td>2013-08-27</td>\n",
       "      <td>bitcoin</td>\n",
       "      <td>btc</td>\n",
       "      <td>125.67</td>\n",
       "      <td>1.459371e+09</td>\n",
       "      <td>0.000000e+00</td>\n",
       "    </tr>\n",
       "    <tr>\n",
       "      <th>1</th>\n",
       "      <td>2013-08-28</td>\n",
       "      <td>bitcoin</td>\n",
       "      <td>btc</td>\n",
       "      <td>123.02</td>\n",
       "      <td>1.429111e+09</td>\n",
       "      <td>0.000000e+00</td>\n",
       "    </tr>\n",
       "    <tr>\n",
       "      <th>2</th>\n",
       "      <td>2013-08-29</td>\n",
       "      <td>bitcoin</td>\n",
       "      <td>btc</td>\n",
       "      <td>123.44</td>\n",
       "      <td>1.434595e+09</td>\n",
       "      <td>0.000000e+00</td>\n",
       "    </tr>\n",
       "    <tr>\n",
       "      <th>3</th>\n",
       "      <td>2013-08-30</td>\n",
       "      <td>bitcoin</td>\n",
       "      <td>btc</td>\n",
       "      <td>129.20</td>\n",
       "      <td>1.502173e+09</td>\n",
       "      <td>0.000000e+00</td>\n",
       "    </tr>\n",
       "    <tr>\n",
       "      <th>4</th>\n",
       "      <td>2013-08-31</td>\n",
       "      <td>bitcoin</td>\n",
       "      <td>btc</td>\n",
       "      <td>137.76</td>\n",
       "      <td>1.602407e+09</td>\n",
       "      <td>0.000000e+00</td>\n",
       "    </tr>\n",
       "    <tr>\n",
       "      <th>...</th>\n",
       "      <td>...</td>\n",
       "      <td>...</td>\n",
       "      <td>...</td>\n",
       "      <td>...</td>\n",
       "      <td>...</td>\n",
       "      <td>...</td>\n",
       "    </tr>\n",
       "    <tr>\n",
       "      <th>25138</th>\n",
       "      <td>2023-08-20</td>\n",
       "      <td>solana</td>\n",
       "      <td>sol</td>\n",
       "      <td>21.88</td>\n",
       "      <td>8.915137e+09</td>\n",
       "      <td>2.541815e+08</td>\n",
       "    </tr>\n",
       "    <tr>\n",
       "      <th>25139</th>\n",
       "      <td>2023-08-21</td>\n",
       "      <td>solana</td>\n",
       "      <td>sol</td>\n",
       "      <td>21.75</td>\n",
       "      <td>8.865950e+09</td>\n",
       "      <td>1.999999e+08</td>\n",
       "    </tr>\n",
       "    <tr>\n",
       "      <th>25140</th>\n",
       "      <td>2023-08-22</td>\n",
       "      <td>solana</td>\n",
       "      <td>sol</td>\n",
       "      <td>21.20</td>\n",
       "      <td>8.654520e+09</td>\n",
       "      <td>3.504058e+08</td>\n",
       "    </tr>\n",
       "    <tr>\n",
       "      <th>25141</th>\n",
       "      <td>2023-08-23</td>\n",
       "      <td>solana</td>\n",
       "      <td>sol</td>\n",
       "      <td>20.55</td>\n",
       "      <td>8.370857e+09</td>\n",
       "      <td>4.249512e+08</td>\n",
       "    </tr>\n",
       "    <tr>\n",
       "      <th>25142</th>\n",
       "      <td>2023-08-24</td>\n",
       "      <td>solana</td>\n",
       "      <td>sol</td>\n",
       "      <td>21.67</td>\n",
       "      <td>8.838275e+09</td>\n",
       "      <td>4.279637e+08</td>\n",
       "    </tr>\n",
       "  </tbody>\n",
       "</table>\n",
       "<p>25143 rows × 6 columns</p>\n",
       "</div>"
      ],
      "text/plain": [
       "        Timestamp       id symbol  Precio Cierre    Market Cap    Volume 24h\n",
       "0      2013-08-27  bitcoin    btc         125.67  1.459371e+09  0.000000e+00\n",
       "1      2013-08-28  bitcoin    btc         123.02  1.429111e+09  0.000000e+00\n",
       "2      2013-08-29  bitcoin    btc         123.44  1.434595e+09  0.000000e+00\n",
       "3      2013-08-30  bitcoin    btc         129.20  1.502173e+09  0.000000e+00\n",
       "4      2013-08-31  bitcoin    btc         137.76  1.602407e+09  0.000000e+00\n",
       "...           ...      ...    ...            ...           ...           ...\n",
       "25138  2023-08-20   solana    sol          21.88  8.915137e+09  2.541815e+08\n",
       "25139  2023-08-21   solana    sol          21.75  8.865950e+09  1.999999e+08\n",
       "25140  2023-08-22   solana    sol          21.20  8.654520e+09  3.504058e+08\n",
       "25141  2023-08-23   solana    sol          20.55  8.370857e+09  4.249512e+08\n",
       "25142  2023-08-24   solana    sol          21.67  8.838275e+09  4.279637e+08\n",
       "\n",
       "[25143 rows x 6 columns]"
      ]
     },
     "execution_count": 30,
     "metadata": {},
     "output_type": "execute_result"
    }
   ],
   "source": [
    "numeric_columns = ['Market Cap', \n",
    "                'Volume 24h', \n",
    "                ]\n",
    "all_coin_data_df[numeric_columns] = all_coin_data_df[numeric_columns].astype(float)\n",
    "all_coin_data_df"
   ]
  },
  {
   "cell_type": "markdown",
   "metadata": {},
   "source": [
    "# <h1 align=left>**`Load: Histórico de Precios`**</h1>"
   ]
  },
  {
   "cell_type": "markdown",
   "metadata": {},
   "source": [
    "**5.** Teniendo lista la información con los datos deseados se procede con la creación del nuevo Dataset."
   ]
  },
  {
   "cell_type": "code",
   "execution_count": 31,
   "metadata": {},
   "outputs": [],
   "source": [
    "all_coin_data_df.to_csv(\"..\\Datasets\\historical_prices.csv\")"
   ]
  }
 ],
 "metadata": {
  "kernelspec": {
   "display_name": "Python 3",
   "language": "python",
   "name": "python3"
  },
  "language_info": {
   "codemirror_mode": {
    "name": "ipython",
    "version": 3
   },
   "file_extension": ".py",
   "mimetype": "text/x-python",
   "name": "python",
   "nbconvert_exporter": "python",
   "pygments_lexer": "ipython3",
   "version": "3.11.0"
  },
  "orig_nbformat": 4
 },
 "nbformat": 4,
 "nbformat_minor": 2
}
